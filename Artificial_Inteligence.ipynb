{
  "nbformat": 4,
  "nbformat_minor": 0,
  "metadata": {
    "colab": {
      "provenance": [],
      "private_outputs": true,
      "include_colab_link": true
    },
    "kernelspec": {
      "name": "python3",
      "display_name": "Python 3"
    },
    "language_info": {
      "name": "python"
    },
    "accelerator": "GPU"
  },
  "cells": [
    {
      "cell_type": "markdown",
      "metadata": {
        "id": "view-in-github",
        "colab_type": "text"
      },
      "source": [
        "<a href=\"https://colab.research.google.com/github/Daniel-Chavarro/Proyectsistem/blob/main/Artificial_Inteligence.ipynb\" target=\"_parent\"><img src=\"https://colab.research.google.com/assets/colab-badge.svg\" alt=\"Open In Colab\"/></a>"
      ]
    },
    {
      "cell_type": "code",
      "execution_count": null,
      "metadata": {
        "id": "Z0s6UI8j83Yj"
      },
      "outputs": [],
      "source": [
        "import numpy as np\n",
        "import torchvision.transforms as transforms\n",
        "import os\n",
        "import pandas as pd\n",
        "import matplotlib.pyplot as plt\n",
        "import matplotlib.image as mpimg\n",
        "import shutil\n",
        "import tensorflow as tf\n",
        "import tensorflow_hub as hub\n",
        "import requests\n",
        "import cv2\n",
        "\n",
        "from io import BytesIO\n",
        "from PIL import Image\n",
        "from tensorflow.keras.preprocessing.image import ImageDataGenerator\n",
        "from google.colab import drive"
      ]
    },
    {
      "cell_type": "code",
      "source": [
        "from google.colab import drive\n",
        "drive.mount('/content/drive')"
      ],
      "metadata": {
        "id": "hurgzF-4iO7L"
      },
      "execution_count": null,
      "outputs": []
    },
    {
      "cell_type": "code",
      "source": [
        "#Entrar a carpeta\n",
        "\n",
        "%cd \"/content/drive/MyDrive/Proyect-system/garbage-clasificator\""
      ],
      "metadata": {
        "id": "djfIHJuunwx7"
      },
      "execution_count": null,
      "outputs": []
    },
    {
      "cell_type": "code",
      "source": [
        "# Crear carpetas para datasets\n",
        "\n",
        "!mkdir dataset\n",
        "!mkdir dataset/aluminum\n",
        "!mkdir dataset/cardboard\n",
        "!mkdir dataset/glass\n",
        "!mkdir dataset/paper\n",
        "!mkdir dataset/pet \n",
        "!mkdir dataset/plastic\n",
        "!mkdir dataset/textiles\n",
        "!mkdir dataset/wood"
      ],
      "metadata": {
        "id": "TFyTAc-sqAko"
      },
      "execution_count": null,
      "outputs": []
    },
    {
      "cell_type": "code",
      "source": [
        "#Copiar imagenes al dataset\n",
        "#Limitar a 345\n",
        "carpeta_fuente = '/content/drive/MyDrive/Proyect-system/garbage-clasificator/Reciclable/aluminum'\n",
        "carpeta_destino = '/content/drive/MyDrive/Proyect-system/garbage-clasificator/dataset/aluminum'\n",
        "\n",
        "imagenes = os.listdir(carpeta_fuente)\n",
        "\n",
        "for i, nombreimg in enumerate(imagenes):\n",
        "  if i < 345:\n",
        "    #Copia de la carpeta fuente a la destino\n",
        "    shutil.copy(carpeta_fuente + '/' + nombreimg, carpeta_destino + '/' + nombreimg)"
      ],
      "metadata": {
        "id": "Kq_RQ-BOq6at"
      },
      "execution_count": null,
      "outputs": []
    },
    {
      "cell_type": "code",
      "source": [
        "carpeta_fuente = '/content/drive/MyDrive/Proyect-system/garbage-clasificator/Reciclable/cardboard'\n",
        "carpeta_destino = '/content/drive/MyDrive/Proyect-system/garbage-clasificator/dataset/cardboard'\n",
        "\n",
        "imagenes = os.listdir(carpeta_fuente)\n",
        "\n",
        "for i, nombreimg in enumerate(imagenes):\n",
        "  if i < 345:\n",
        "    #Copia de la carpeta fuente a la destino\n",
        "    shutil.copy(carpeta_fuente + '/' + nombreimg, carpeta_destino + '/' + nombreimg)"
      ],
      "metadata": {
        "id": "uxGqLH9Ar2iq"
      },
      "execution_count": null,
      "outputs": []
    },
    {
      "cell_type": "code",
      "source": [
        "carpeta_fuente = '/content/drive/MyDrive/Proyect-system/garbage-clasificator/Reciclable/glass'\n",
        "carpeta_destino = '/content/drive/MyDrive/Proyect-system/garbage-clasificator/dataset/glass'\n",
        "\n",
        "imagenes = os.listdir(carpeta_fuente)\n",
        "\n",
        "for i, nombreimg in enumerate(imagenes):\n",
        "  if i < 345:\n",
        "    #Copia de la carpeta fuente a la destino\n",
        "    shutil.copy(carpeta_fuente + '/' + nombreimg, carpeta_destino + '/' + nombreimg)"
      ],
      "metadata": {
        "id": "GDNODB91sAqr"
      },
      "execution_count": null,
      "outputs": []
    },
    {
      "cell_type": "code",
      "source": [
        "carpeta_fuente = '/content/drive/MyDrive/Proyect-system/garbage-clasificator/Reciclable/paper'\n",
        "carpeta_destino = '/content/drive/MyDrive/Proyect-system/garbage-clasificator/dataset/paper'\n",
        "\n",
        "imagenes = os.listdir(carpeta_fuente)\n",
        "\n",
        "for i, nombreimg in enumerate(imagenes):\n",
        "  if i < 345:\n",
        "    #Copia de la carpeta fuente a la destino\n",
        "    shutil.copy(carpeta_fuente + '/' + nombreimg, carpeta_destino + '/' + nombreimg)"
      ],
      "metadata": {
        "id": "64w-_QGVsGXl"
      },
      "execution_count": null,
      "outputs": []
    },
    {
      "cell_type": "code",
      "source": [
        "carpeta_fuente = '/content/drive/MyDrive/Proyect-system/garbage-clasificator/Reciclable/pet'\n",
        "carpeta_destino = '/content/drive/MyDrive/Proyect-system/garbage-clasificator/dataset/pet'\n",
        "\n",
        "imagenes = os.listdir(carpeta_fuente)\n",
        "\n",
        "for i, nombreimg in enumerate(imagenes):\n",
        "  if i < 345:\n",
        "    #Copia de la carpeta fuente a la destino\n",
        "    shutil.copy(carpeta_fuente + '/' + nombreimg, carpeta_destino + '/' + nombreimg)"
      ],
      "metadata": {
        "id": "8AqnwM7osKZS"
      },
      "execution_count": null,
      "outputs": []
    },
    {
      "cell_type": "code",
      "source": [
        "carpeta_fuente = '/content/drive/MyDrive/Proyect-system/garbage-clasificator/Reciclable/plastic'\n",
        "carpeta_destino = '/content/drive/MyDrive/Proyect-system/garbage-clasificator/dataset/plastic'\n",
        "\n",
        "imagenes = os.listdir(carpeta_fuente)\n",
        "\n",
        "for i, nombreimg in enumerate(imagenes):\n",
        "  if i < 345:\n",
        "    #Copia de la carpeta fuente a la destino\n",
        "    shutil.copy(carpeta_fuente + '/' + nombreimg, carpeta_destino + '/' + nombreimg)"
      ],
      "metadata": {
        "id": "aKp4P8chsSFX"
      },
      "execution_count": null,
      "outputs": []
    },
    {
      "cell_type": "code",
      "source": [
        "carpeta_fuente = '/content/drive/MyDrive/Proyect-system/garbage-clasificator/Reciclable/textiles'\n",
        "carpeta_destino = '/content/drive/MyDrive/Proyect-system/garbage-clasificator/dataset/textiles'\n",
        "\n",
        "imagenes = os.listdir(carpeta_fuente)\n",
        "\n",
        "for i, nombreimg in enumerate(imagenes):\n",
        "  if i < 345:\n",
        "    #Copia de la carpeta fuente a la destino\n",
        "    shutil.copy(carpeta_fuente + '/' + nombreimg, carpeta_destino + '/' + nombreimg)"
      ],
      "metadata": {
        "id": "TBdkoFyAsYI_"
      },
      "execution_count": null,
      "outputs": []
    },
    {
      "cell_type": "code",
      "source": [
        "carpeta_fuente = '/content/drive/MyDrive/Proyect-system/garbage-clasificator/Reciclable/wood'\n",
        "carpeta_destino = '/content/drive/MyDrive/Proyect-system/garbage-clasificator/dataset/wood'\n",
        "\n",
        "imagenes = os.listdir(carpeta_fuente)\n",
        "\n",
        "for i, nombreimg in enumerate(imagenes):\n",
        "  if i < 345:\n",
        "    #Copia de la carpeta fuente a la destino\n",
        "    shutil.copy(carpeta_fuente + '/' + nombreimg, carpeta_destino + '/' + nombreimg)"
      ],
      "metadata": {
        "id": "kY1XdiVPsd0P"
      },
      "execution_count": null,
      "outputs": []
    },
    {
      "cell_type": "code",
      "source": [
        "#Crear el dataset madre\n",
        "\n",
        "datagen = ImageDataGenerator(\n",
        "    rescale=1. / 255,\n",
        "    rotation_range = 30,\n",
        "    width_shift_range = 0.25,\n",
        "    height_shift_range = 0.25,\n",
        "    shear_range = 15,\n",
        "    zoom_range = [0.5, 1.5],\n",
        "    validation_split=0.2 #20% para pruebas\n",
        ")\n",
        "\n",
        "\n",
        "#Generadores para sets de entrenamiento y pruebas\n",
        "data_gen_entrenamiento = datagen.flow_from_directory('/content/drive/MyDrive/Proyect-system/garbage-clasificator/dataset', target_size=(224,224),\n",
        "                                                     batch_size=32, shuffle=True, subset='training')\n",
        "data_gen_pruebas = datagen.flow_from_directory('/content/drive/MyDrive/Proyect-system/garbage-clasificator/dataset', target_size=(224,224),\n",
        "                                                     batch_size=32, shuffle=True, subset='validation')\n",
        "\n",
        "#Imprimir 10 imagenes del generador de entrenamiento\n",
        "for imagen, etiqueta in data_gen_entrenamiento:\n",
        "  for i in range(10):\n",
        "    plt.subplot(2,5,i+1)\n",
        "    plt.xticks([])\n",
        "    plt.yticks([])\n",
        "    plt.imshow(imagen[i])\n",
        "  break\n",
        "plt.show()"
      ],
      "metadata": {
        "id": "TyU_ftcQv-69"
      },
      "execution_count": null,
      "outputs": []
    },
    {
      "cell_type": "code",
      "source": [
        "#link tf modelo descargado\n",
        "\n",
        "url = \"https://tfhub.dev/google/tf2-preview/mobilenet_v2/feature_vector/4\"\n",
        "mobilenetv2 = hub.KerasLayer(url, input_shape=(224,224,3))"
      ],
      "metadata": {
        "id": "s0jWNhDwxH23"
      },
      "execution_count": null,
      "outputs": []
    },
    {
      "cell_type": "code",
      "source": [],
      "metadata": {
        "id": "DRO92iOkou2-"
      },
      "execution_count": null,
      "outputs": []
    },
    {
      "cell_type": "code",
      "source": [
        "#Congelar el modelo descargado\n",
        "mobilenetv2.trainable = False"
      ],
      "metadata": {
        "id": "OGSgc7aSxadc"
      },
      "execution_count": null,
      "outputs": []
    },
    {
      "cell_type": "code",
      "source": [
        "#Configuraro modelo\n",
        "\n",
        "modelo = tf.keras.Sequential([\n",
        "    mobilenetv2,\n",
        "    tf.keras.layers.Dense(8, activation='softmax')\n",
        "])"
      ],
      "metadata": {
        "id": "81Y54Q_0xe1v"
      },
      "execution_count": null,
      "outputs": []
    },
    {
      "cell_type": "code",
      "source": [
        "#Info modelo\n",
        "\n",
        "modelo.summary()"
      ],
      "metadata": {
        "id": "7kd2J5hcxxf2"
      },
      "execution_count": null,
      "outputs": []
    },
    {
      "cell_type": "code",
      "source": [
        "#Compilar (Optimizar)\n",
        "modelo.compile(\n",
        "    optimizer='adam',\n",
        "    loss='categorical_crossentropy',\n",
        "    metrics=['accuracy']\n",
        ")"
      ],
      "metadata": {
        "id": "lTYZ4MIUyOgO"
      },
      "execution_count": null,
      "outputs": []
    },
    {
      "cell_type": "code",
      "source": [
        "#Entrenar el modelo\n",
        "EPOCAS = 50\n",
        "\n",
        "historial = modelo.fit(\n",
        "    data_gen_entrenamiento, epochs=EPOCAS, batch_size=32,\n",
        "    validation_data=data_gen_pruebas\n",
        ")"
      ],
      "metadata": {
        "id": "d0lXhq1qyWAZ"
      },
      "execution_count": null,
      "outputs": []
    },
    {
      "cell_type": "code",
      "source": [
        "#Graficas de precisión\n",
        "acc = historial.history['accuracy']\n",
        "val_acc = historial.history['val_accuracy']\n",
        "\n",
        "loss = historial.history['loss']\n",
        "val_loss = historial.history['val_loss']\n",
        "\n",
        "rango_epocas = range(50)\n",
        "\n",
        "plt.figure(figsize=(8,8))\n",
        "plt.subplot(1,2,1)\n",
        "plt.plot(rango_epocas, acc, label='Precisión Entrenamiento')\n",
        "plt.plot(rango_epocas, val_acc, label='Precisión Pruebas')\n",
        "plt.legend(loc='lower right')\n",
        "plt.title('Precisión de entrenamiento y pruebas')\n",
        "\n",
        "plt.subplot(1,2,2)\n",
        "plt.plot(rango_epocas, loss, label='Pérdida de entrenamiento')\n",
        "plt.plot(rango_epocas, val_loss, label='Pérdida de pruebas')\n",
        "plt.legend(loc='upper right')\n",
        "plt.title('Pérdida de entrenamiento y pruebas')\n",
        "plt.show()"
      ],
      "metadata": {
        "id": "DumVlnCvlwx0"
      },
      "execution_count": null,
      "outputs": []
    },
    {
      "cell_type": "code",
      "source": [
        "def categorizar(url):\n",
        "  respuesta = requests.get(url)\n",
        "  img = Image.open(BytesIO(respuesta.content))\n",
        "  img = np.array(img).astype(float)/255\n",
        "\n",
        "  img = cv2.resize(img, (224,224))\n",
        "  prediccion = modelo.predict(img.reshape(-1, 224, 224, 3))\n",
        "  return np.argmax(prediccion[0], axis=-1)\n"
      ],
      "metadata": {
        "id": "LvF5u6kODGcM"
      },
      "execution_count": null,
      "outputs": []
    },
    {
      "cell_type": "code",
      "source": [
        "#0 aluminium  1 cardboard   2 glass   3 paper   4 pet   5 plastic   6 textiles   7 wood\n",
        "\n",
        "url = 'https://i.pinimg.com/originals/26/14/a7/2614a7ca76b5685e9cb77c60a5c3187a.jpg'\n",
        "prediccion = categorizar(url)\n",
        "\n",
        "reciclable = {\n",
        "    0: \"Aluminio\",\n",
        "    1: \"Carton\",\n",
        "    2: \"Vidrio\",\n",
        "    3: \"Papel\",\n",
        "    4: \"pet\",\n",
        "    5: \"Plastico\",\n",
        "    6: \"Tejidos\",\n",
        "    7: \"Madera\"\n",
        "}\n",
        "\n",
        "def IsReciclable():\n",
        "    for k in reciclable:\n",
        "      if k == prediccion:\n",
        "        global material\n",
        "        material = reciclable[k]\n",
        "        return \"Es Reciclable\"\n",
        "        break\n",
        "\n",
        "\n",
        "print(IsReciclable())\n",
        "print(material)"
      ],
      "metadata": {
        "id": "VHN9ef2tDIqn"
      },
      "execution_count": null,
      "outputs": []
    },
    {
      "cell_type": "code",
      "source": [
        "!ls salida"
      ],
      "metadata": {
        "id": "idTilaafrEjc"
      },
      "execution_count": null,
      "outputs": []
    },
    {
      "cell_type": "code",
      "source": [
        "!pip install tensorflowjs"
      ],
      "metadata": {
        "id": "P8P15vJUrZVF"
      },
      "execution_count": null,
      "outputs": []
    },
    {
      "cell_type": "markdown",
      "source": [
        "\n",
        "\n",
        "```\n",
        "# This is formatted as code\n",
        "```\n",
        "\n"
      ],
      "metadata": {
        "id": "RaQdCx9frr1n"
      }
    },
    {
      "cell_type": "code",
      "source": [
        "modelo.save(\"reciclableAI.h5\")"
      ],
      "metadata": {
        "id": "NmP5RZsstFns"
      },
      "execution_count": null,
      "outputs": []
    },
    {
      "cell_type": "code",
      "source": [
        "!tensorflowjs_converter --input_format=keras reciclableAI.h5 salida/js"
      ],
      "metadata": {
        "id": "0TcmF7vMykcN"
      },
      "execution_count": null,
      "outputs": []
    },
    {
      "cell_type": "code",
      "source": [
        "!pwd"
      ],
      "metadata": {
        "id": "amk8U7txyYCr"
      },
      "execution_count": null,
      "outputs": []
    },
    {
      "cell_type": "code",
      "source": [],
      "metadata": {
        "id": "wSaQprmkBP6k"
      },
      "execution_count": null,
      "outputs": []
    }
  ]
}